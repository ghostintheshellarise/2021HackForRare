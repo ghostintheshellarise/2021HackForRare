{
 "cells": [
  {
   "cell_type": "markdown",
   "id": "interim-fetish",
   "metadata": {},
   "source": [
    "# PubMed Extracts - Fibromatosis"
   ]
  },
  {
   "cell_type": "raw",
   "id": "juvenile-psychology",
   "metadata": {},
   "source": [
    "After running topic modeling on Desmoid Tumour (https://en.wikipedia.org/wiki/Aggressive_fibromatosis), \n",
    "several keywords are highlighted and extracted to file 'desmoid_keyphrases.csv'\n",
    "\n",
    "Since Desmoid Tumour is present as a rare conditon of aggressive fibromatosis, I will extend the search to fibromatosis to recover other potential 'entry points' for subsequent analysis."
   ]
  },
  {
   "cell_type": "code",
   "execution_count": 1,
   "id": "rational-perfume",
   "metadata": {},
   "outputs": [],
   "source": [
    "desmoid_keywords = ['APC','CTNNB1','alpha catenin',\n",
    "                    'beta catenin','CD34','CD9','ETV6',\n",
    "                    'NTRK3','MDM2','MTX','MUTYH','PDGFRB',\n",
    "                    'S45F','tyrosine kinase inhibitor',\n",
    "                    'Wnt','STAT','ETV6','NTRK(3)',\n",
    "                    'IHC','NAB2','TFE3 beta catenin','TFE3','Cyclin D']"
   ]
  },
  {
   "cell_type": "code",
   "execution_count": 2,
   "id": "european-liquid",
   "metadata": {},
   "outputs": [],
   "source": [
    "# import libraries\n",
    "import pandas as pd\n",
    "from tqdm import tqdm\n",
    "from collections import deque, OrderedDict\n",
    "import time\n",
    "import gensim\n",
    "from gensim.corpora import Dictionary\n",
    "import spacy\n",
    "import scispacy\n",
    "import nltk\n",
    "from nltk import ngrams, FreqDist\n",
    "from corextopic import corextopic as ct\n",
    "from negspacy.negation import Negex\n",
    "import numpy as np\n",
    "from scipy.spatial.distance import cosine\n",
    "import scipy.sparse as ss"
   ]
  },
  {
   "cell_type": "code",
   "execution_count": 3,
   "id": "increasing-gospel",
   "metadata": {},
   "outputs": [
    {
     "name": "stdout",
     "output_type": "stream",
     "text": [
      "CPU times: user 11.4 s, sys: 996 ms, total: 12.4 s\n",
      "Wall time: 12.4 s\n"
     ]
    }
   ],
   "source": [
    "%%time\n",
    "# I will use SciSpacy model to clean the text \n",
    "# and extract entity for topic modeling\n",
    "#nlp_eng = spacy.load('en_core_web_lg')\n",
    "nlp_sci = spacy.load('en_core_sci_lg')\n",
    "#nlp_craft = spacy.load('en_ner_craft_md')\n",
    "#nlp_jnlpba = spacy.load('en_ner_jnlpba_md')\n",
    "nlp_bionlp = spacy.load('en_ner_bionlp13cg_md')\n",
    "#nlp_bc5cdr = spacy.load('en_ner_bc5cdr_md')"
   ]
  },
  {
   "cell_type": "code",
   "execution_count": 4,
   "id": "executed-profession",
   "metadata": {},
   "outputs": [],
   "source": [
    "# The following file contains all the extracts from PubMed\n",
    "# that has mentioned \"fibromatosis\"\n",
    "FILE = 'fibromatosis_pubmed_extract.csv'"
   ]
  },
  {
   "cell_type": "code",
   "execution_count": 5,
   "id": "cardiac-showcase",
   "metadata": {},
   "outputs": [
    {
     "name": "stdout",
     "output_type": "stream",
     "text": [
      "<class 'pandas.core.frame.DataFrame'>\n",
      "RangeIndex: 22020 entries, 0 to 22019\n",
      "Data columns (total 1 columns):\n",
      " #   Column  Non-Null Count  Dtype \n",
      "---  ------  --------------  ----- \n",
      " 0   text    22020 non-null  object\n",
      "dtypes: object(1)\n",
      "memory usage: 172.2+ KB\n",
      "CPU times: user 97.1 ms, sys: 12.6 ms, total: 110 ms\n",
      "Wall time: 108 ms\n"
     ]
    }
   ],
   "source": [
    "%%time\n",
    "df = pd.read_csv(FILE)\n",
    "df.info()"
   ]
  },
  {
   "cell_type": "code",
   "execution_count": 6,
   "id": "protecting-renaissance",
   "metadata": {},
   "outputs": [],
   "source": [
    "df.to_csv('fibromatosis_pubmed_extract.csv', index=False)"
   ]
  },
  {
   "cell_type": "code",
   "execution_count": 7,
   "id": "higher-shooting",
   "metadata": {},
   "outputs": [],
   "source": [
    "# Since abstract usually contains a bunch of words/phrases that are\n",
    "# non-informative to the analysis.  The following list contains\n",
    "# those words/phrases to remove before further analysis\n",
    "word_to_remove = ['- ','ABSTRACT:','BACKGROUND ','CASE: ',\n",
    "                  'CASE PRESENTATION:','CASE REPORT ',\n",
    "                  'CASE SUMMARY:','CLINICAL QUESTION/LEVEL OF EVIDENCE: ',\n",
    "                  'CONCLUSIONS:','CONCLUSIONS.-: ','CONCLUSIONS: - ','Conclusion: ',\n",
    "                  'Conclusions: ','CONCLUSION:','DATA SOURCES.-: ','DATA SOURCES: - ',\n",
    "                  'DIAGNOSES: ','DIAGNOSES AND OUTCOMES: ','DISCUSSION:',\n",
    "                  'INTERPRETATION:','INTERVENTIONS: ','FUNDING: ','LESSONS: ',\n",
    "                  'MATERIALS AND METHODS: ','METHODS:','METHODS: ','Methods:',\n",
    "                  'METHOD:','OBJECTIVES:','OBJECTIVE:','OBJECTIVE AND METHOD:',\n",
    "                  'OBJECTIVE.-: ','OBJECTIVE: - ','OUTCOMES: ','PATIENT CONCERNS: ',\n",
    "                  'PRESENTATION OF CASE: ','RESULTS:','RESULT:',\n",
    "                  'MATERIALS AND METHODS:', '(',')','MEDLINE', 'FINDINGS']"
   ]
  },
  {
   "cell_type": "code",
   "execution_count": 8,
   "id": "premium-government",
   "metadata": {},
   "outputs": [
    {
     "name": "stdout",
     "output_type": "stream",
     "text": [
      "12330\n",
      "CPU times: user 530 ms, sys: 7.67 ms, total: 538 ms\n",
      "Wall time: 537 ms\n"
     ]
    }
   ],
   "source": [
    "%%time\n",
    "# clean the original abstract by removing the non-informative words/phrases\n",
    "# I also remove the abstract that is too short to be useful\n",
    "t = deque()\n",
    "for i in range(len(df)):\n",
    "    text = df.loc[i,'text']\n",
    "    for word in word_to_remove:\n",
    "        text = text.replace(word,'')\n",
    "    if len(text.split(' '))>40:\n",
    "        t.append(text)\n",
    "print (len(t))"
   ]
  },
  {
   "cell_type": "code",
   "execution_count": 22,
   "id": "fresh-desire",
   "metadata": {},
   "outputs": [],
   "source": [
    "# Helper functions\n",
    "def extract_specific_tokens(nlp, paragraph): # using English common POS as starting point\n",
    "    POS_to_remove = ['ADP','ADV','AUX','CONJ','SCONJ','SPACE','DET','INTJ','NUM','PRON','CCONJ','PUNCT','SYM','X','VERB','PART']\n",
    "    doc = nlp(paragraph)\n",
    "    pr = []\n",
    "    for token in doc:\n",
    "        if token.pos_ not in POS_to_remove:\n",
    "            if '%' not in token.text:\n",
    "                pr.append(token.text)\n",
    "            else:\n",
    "                pass\n",
    "    return pr\n",
    "\n",
    "def extract_keyword(text):\n",
    "    start_pos = text.find('\"')\n",
    "    if text[start_pos+1:-2]=='':\n",
    "        pass\n",
    "    else:\n",
    "        return text[start_pos+1:-1]"
   ]
  },
  {
   "cell_type": "markdown",
   "id": "vocal-survival",
   "metadata": {},
   "source": [
    "# Topic Modeling"
   ]
  },
  {
   "cell_type": "code",
   "execution_count": 10,
   "id": "rental-religious",
   "metadata": {},
   "outputs": [
    {
     "name": "stderr",
     "output_type": "stream",
     "text": [
      "100%|██████████| 12330/12330 [03:52<00:00, 53.11it/s]\n",
      "100%|██████████| 12330/12330 [02:28<00:00, 82.77it/s] "
     ]
    },
    {
     "name": "stdout",
     "output_type": "stream",
     "text": [
      "CPU times: user 6min 19s, sys: 3.27 s, total: 6min 23s\n",
      "Wall time: 6min 22s\n"
     ]
    },
    {
     "name": "stderr",
     "output_type": "stream",
     "text": [
      "\n"
     ]
    },
    {
     "data": {
      "text/plain": [
       "12330"
      ]
     },
     "execution_count": 10,
     "metadata": {},
     "output_type": "execute_result"
    }
   ],
   "source": [
    "%%time\n",
    "# Set of language libraries from different domains \n",
    "# to clean up the text and extract entities\n",
    "nlp_eng = spacy.load('en_core_web_lg')\n",
    "nlps = [nlp_bionlp]\n",
    "nlp_names  = ['nlp_bionlp']\n",
    "label_to_remove = ['DISEASE','CANCER','MULTI_TISSUE_STRUCTURE','PATHOLOGICAL_FORMATION','ORGAN','TISSUE','ORGANISM_SUBDIVISION','CL','CELL_TYPE','CELL','SO','GO','CELLULAR_COMPONENT','ORGANISM_SUBSTANCE','TAXON','ORGANISM']\n",
    "\n",
    "# Process to extract entities for topic analysis\n",
    "doc_list = []\n",
    "for paragraph in tqdm(t): \n",
    "    text = ' '.join(extract_specific_tokens(nlp_eng, paragraph)) # remove common words\n",
    "    doc_list.append(text)\n",
    "\n",
    "new_doc = []\n",
    "for paragraph in tqdm(doc_list): \n",
    "    for nlp in nlps: # use different biomedical domain corpus to enrich the document informative content\n",
    "        doc = nlp(paragraph)\n",
    "        pr = [ent.text for ent in doc.ents if ent.label_ not in label_to_remove] # extract biomedical domain relevant entity\n",
    "        new_doc.append(pr)\n",
    "\n",
    "len(new_doc) # print out the total number of documents in the corpus"
   ]
  },
  {
   "cell_type": "code",
   "execution_count": 11,
   "id": "thorough-scottish",
   "metadata": {},
   "outputs": [],
   "source": [
    "word = Dictionary(new_doc)\n",
    "corpus = [word.doc2bow(doc) for doc in new_doc]"
   ]
  },
  {
   "cell_type": "code",
   "execution_count": 12,
   "id": "fitted-nebraska",
   "metadata": {},
   "outputs": [
    {
     "name": "stdout",
     "output_type": "stream",
     "text": [
      "CPU times: user 2min 39s, sys: 266 ms, total: 2min 39s\n",
      "Wall time: 2min 39s\n"
     ]
    }
   ],
   "source": [
    "%%time\n",
    "lda_model = gensim.models.ldamodel.LdaModel(corpus=corpus,\n",
    "                                           id2word=word,\n",
    "                                           num_topics=10, \n",
    "                                           random_state=1,\n",
    "                                           update_every=1,\n",
    "                                           passes=200,\n",
    "                                           alpha='auto',\n",
    "                                           per_word_topics=True)"
   ]
  },
  {
   "cell_type": "code",
   "execution_count": 13,
   "id": "breathing-vegetarian",
   "metadata": {},
   "outputs": [
    {
     "name": "stdout",
     "output_type": "stream",
     "text": [
      "(0, '0.085*\"APC\" + 0.066*\"FAP\" + 0.018*\"alcohol\" + 0.016*\"p53\" + 0.013*\"PCNA\" + 0.012*\"adenomatous polyposis coli\" + 0.011*\"FAP patients\" + 0.008*\"intracytoplasmic\" + 0.007*\"PTEN\" + 0.006*\"ANTXR2\"')\n",
      "\n",
      "(1, '0.026*\"imatinib\" + 0.022*\"Ki-67\" + 0.016*\"cytokeratin\" + 0.016*\"elastin\" + 0.014*\"S100\" + 0.013*\"type III collagen\" + 0.012*\"keratin\" + 0.009*\"WT1\" + 0.009*\"HRPT2\" + 0.009*\"KCNH1\"')\n",
      "\n",
      "(2, '0.022*\"acrylamide\" + 0.019*\"actin\" + 0.014*\"progesterone\" + 0.013*\"insulin\" + 0.010*\"MDM2\" + 0.010*\"Arm\" + 0.009*\"EGF\" + 0.007*\"collagen fibrils\" + 0.007*\"oxygen\" + 0.007*\"CD99\"')\n",
      "\n",
      "(3, '0.069*\"CD34\" + 0.021*\"CCH\" + 0.016*\"amino acid\" + 0.008*\"collagenase clostridium\" + 0.008*\"BRAF\" + 0.008*\"GnRH\" + 0.007*\"sulindac\" + 0.006*\"NSAIDs\" + 0.006*\"BMP\" + 0.006*\"tendon\"')\n",
      "\n",
      "(4, '0.180*\"collagen\" + 0.031*\"S-100\" + 0.011*\"intravenous\" + 0.009*\"calcium\" + 0.008*\"estrogen\" + 0.007*\"TNF\" + 0.006*\"c myc\" + 0.005*\"VEGF\" + 0.005*\"MMP-2\" + 0.005*\"GCF\"')\n",
      "\n",
      "(5, '0.062*\"electron\" + 0.044*\"vimentin\" + 0.036*\"tamoxifen\" + 0.017*\"collagen fibers\" + 0.015*\"intracellular\" + 0.013*\"CMG2\" + 0.013*\"doxorubicin\" + 0.012*\"desmin\" + 0.009*\"TGF beta\" + 0.008*\"ER\"')\n",
      "\n",
      "(6, '0.091*\"collagenase\" + 0.031*\"CDC73\" + 0.016*\"IGF II\" + 0.014*\"parafibromin\" + 0.014*\"Collagenase\" + 0.010*\"Fine\" + 0.010*\"GS\" + 0.008*\"EGFR\" + 0.008*\"needle\" + 0.008*\"IGF\"')\n",
      "\n",
      "(7, '0.065*\"hyaline\" + 0.039*\"TGF beta1\" + 0.024*\"US\" + 0.021*\"FNAC\" + 0.020*\"glucose\" + 0.013*\"PDGFRB\" + 0.013*\"tyrosine\" + 0.011*\"PIP\" + 0.009*\"FTS\" + 0.009*\"estrogen progesterone\"')\n",
      "\n",
      "(8, '0.141*\"beta catenin\" + 0.065*\"CTNNB1\" + 0.025*\"Wnt\" + 0.017*\"FDG\" + 0.011*\"CO2\" + 0.008*\"vimentin CD34\" + 0.007*\"Wnt beta catenin\" + 0.007*\"caldesmon\" + 0.007*\"alanine\" + 0.007*\"TGFbeta1\"')\n",
      "\n",
      "(9, '0.099*\"HGF\" + 0.030*\"CMF\" + 0.024*\"fibronectin\" + 0.016*\"USP6\" + 0.014*\"PIP joint\" + 0.013*\"SOS1\" + 0.012*\"NF1\" + 0.006*\"alpha SMA\" + 0.006*\"APC beta catenin\" + 0.006*\"PA\"')\n",
      "\n"
     ]
    }
   ],
   "source": [
    "# Below are 10 topics with keywords identified from PubMed abstracts\n",
    "for topic in lda_model.print_topics(num_words=10):\n",
    "    print (topic)\n",
    "    print ()"
   ]
  },
  {
   "cell_type": "code",
   "execution_count": 23,
   "id": "alert-anthony",
   "metadata": {},
   "outputs": [
    {
     "name": "stderr",
     "output_type": "stream",
     "text": [
      "100%|██████████| 10/10 [00:00<00:00, 42755.39it/s]"
     ]
    },
    {
     "name": "stdout",
     "output_type": "stream",
     "text": [
      "CPU times: user 3 ms, sys: 1.25 ms, total: 4.25 ms\n",
      "Wall time: 3.16 ms\n"
     ]
    },
    {
     "name": "stderr",
     "output_type": "stream",
     "text": [
      "\n"
     ]
    },
    {
     "data": {
      "text/plain": [
       "200"
      ]
     },
     "execution_count": 23,
     "metadata": {},
     "output_type": "execute_result"
    }
   ],
   "source": [
    "%%time\n",
    "# Extract keywords for further analysis\n",
    "keyword_lst = []\n",
    "for topic in tqdm(lda_model.print_topics(num_words=20)):\n",
    "    index, formula = topic\n",
    "    components = formula.split(\" + \")\n",
    "    for component in components:\n",
    "        keyword = extract_keyword(component)\n",
    "        keyword_lst.append(keyword)\n",
    "len(list(set(keyword_lst)))"
   ]
  },
  {
   "cell_type": "code",
   "execution_count": 65,
   "id": "classified-greensboro",
   "metadata": {},
   "outputs": [],
   "source": [
    "# Extract gene keys/phrases\n",
    "shortlisted = [key for key in keyword_lst if (len(key)>2 and len(key)<7)]"
   ]
  },
  {
   "cell_type": "code",
   "execution_count": 66,
   "id": "generic-withdrawal",
   "metadata": {},
   "outputs": [
    {
     "data": {
      "text/plain": [
       "(91,\n",
       " ['APC',\n",
       "  'FAP',\n",
       "  'p53',\n",
       "  'PCNA',\n",
       "  'PTEN',\n",
       "  'ANTXR2',\n",
       "  'TSC',\n",
       "  'SATB2',\n",
       "  'COX-2',\n",
       "  'AKT2',\n",
       "  'XIIIa',\n",
       "  'CA125',\n",
       "  'Ki-67',\n",
       "  'S100',\n",
       "  'WT1',\n",
       "  'HRPT2',\n",
       "  'KCNH1',\n",
       "  'KIT',\n",
       "  'STAT6',\n",
       "  'MET',\n",
       "  'actin',\n",
       "  'MDM2',\n",
       "  'Arm',\n",
       "  'EGF',\n",
       "  'oxygen',\n",
       "  'CD99',\n",
       "  'PHF1',\n",
       "  'NTRK3',\n",
       "  'FOXL2',\n",
       "  'Feed',\n",
       "  'CD34',\n",
       "  'CCH',\n",
       "  'BRAF',\n",
       "  'GnRH',\n",
       "  'NSAIDs',\n",
       "  'BMP',\n",
       "  'tendon',\n",
       "  'CD10',\n",
       "  'S-100',\n",
       "  'TNF',\n",
       "  'c myc',\n",
       "  'VEGF',\n",
       "  'MMP-2',\n",
       "  'GCF',\n",
       "  'MMP',\n",
       "  'CPF',\n",
       "  'CMG2',\n",
       "  'desmin',\n",
       "  'Ki67',\n",
       "  'p63',\n",
       "  'DMBA',\n",
       "  'CDC73',\n",
       "  'IGF II',\n",
       "  'Fine',\n",
       "  'EGFR',\n",
       "  'needle',\n",
       "  'IGF',\n",
       "  'PTCH',\n",
       "  'PTCH1',\n",
       "  'H3F3A',\n",
       "  'GLI1',\n",
       "  'optic',\n",
       "  'RHAMM',\n",
       "  'RANKL',\n",
       "  'CFs',\n",
       "  'FNAC',\n",
       "  'PDGFRB',\n",
       "  'PIP',\n",
       "  'FTS',\n",
       "  'ALK',\n",
       "  'bFGF',\n",
       "  'MACF',\n",
       "  'PNA',\n",
       "  'CTNNB1',\n",
       "  'Wnt',\n",
       "  'FDG',\n",
       "  'CO2',\n",
       "  'CA-125',\n",
       "  'FNA',\n",
       "  'ATP',\n",
       "  'EED',\n",
       "  'MUC4',\n",
       "  'HGF',\n",
       "  'CMF',\n",
       "  'USP6',\n",
       "  'SOS1',\n",
       "  'NF1',\n",
       "  'PDGFRA',\n",
       "  'c kit',\n",
       "  'hand',\n",
       "  'INI-1'])"
      ]
     },
     "execution_count": 66,
     "metadata": {},
     "output_type": "execute_result"
    }
   ],
   "source": [
    "len(shortlisted), shortlisted"
   ]
  },
  {
   "cell_type": "code",
   "execution_count": 67,
   "id": "expressed-helping",
   "metadata": {},
   "outputs": [],
   "source": [
    "shortlisted.remove('Fine')\n",
    "shortlisted.remove('Feed')\n",
    "shortlisted.remove('optic')\n",
    "shortlisted.remove('hand')\n",
    "shortlisted.remove('Arm')\n",
    "shortlisted.remove('oxygen')\n",
    "shortlisted.remove('needle')\n",
    "shortlisted.remove('tendon')\n",
    "shortlisted.remove('FAP')"
   ]
  },
  {
   "cell_type": "code",
   "execution_count": 68,
   "id": "affiliated-johnston",
   "metadata": {},
   "outputs": [
    {
     "data": {
      "text/plain": [
       "(82,\n",
       " ['APC',\n",
       "  'p53',\n",
       "  'PCNA',\n",
       "  'PTEN',\n",
       "  'ANTXR2',\n",
       "  'TSC',\n",
       "  'SATB2',\n",
       "  'COX-2',\n",
       "  'AKT2',\n",
       "  'XIIIa',\n",
       "  'CA125',\n",
       "  'Ki-67',\n",
       "  'S100',\n",
       "  'WT1',\n",
       "  'HRPT2',\n",
       "  'KCNH1',\n",
       "  'KIT',\n",
       "  'STAT6',\n",
       "  'MET',\n",
       "  'actin',\n",
       "  'MDM2',\n",
       "  'EGF',\n",
       "  'CD99',\n",
       "  'PHF1',\n",
       "  'NTRK3',\n",
       "  'FOXL2',\n",
       "  'CD34',\n",
       "  'CCH',\n",
       "  'BRAF',\n",
       "  'GnRH',\n",
       "  'NSAIDs',\n",
       "  'BMP',\n",
       "  'CD10',\n",
       "  'S-100',\n",
       "  'TNF',\n",
       "  'c myc',\n",
       "  'VEGF',\n",
       "  'MMP-2',\n",
       "  'GCF',\n",
       "  'MMP',\n",
       "  'CPF',\n",
       "  'CMG2',\n",
       "  'desmin',\n",
       "  'Ki67',\n",
       "  'p63',\n",
       "  'DMBA',\n",
       "  'CDC73',\n",
       "  'IGF II',\n",
       "  'EGFR',\n",
       "  'IGF',\n",
       "  'PTCH',\n",
       "  'PTCH1',\n",
       "  'H3F3A',\n",
       "  'GLI1',\n",
       "  'RHAMM',\n",
       "  'RANKL',\n",
       "  'CFs',\n",
       "  'FNAC',\n",
       "  'PDGFRB',\n",
       "  'PIP',\n",
       "  'FTS',\n",
       "  'ALK',\n",
       "  'bFGF',\n",
       "  'MACF',\n",
       "  'PNA',\n",
       "  'CTNNB1',\n",
       "  'Wnt',\n",
       "  'FDG',\n",
       "  'CO2',\n",
       "  'CA-125',\n",
       "  'FNA',\n",
       "  'ATP',\n",
       "  'EED',\n",
       "  'MUC4',\n",
       "  'HGF',\n",
       "  'CMF',\n",
       "  'USP6',\n",
       "  'SOS1',\n",
       "  'NF1',\n",
       "  'PDGFRA',\n",
       "  'c kit',\n",
       "  'INI-1'])"
      ]
     },
     "execution_count": 68,
     "metadata": {},
     "output_type": "execute_result"
    }
   ],
   "source": [
    "len(shortlisted), shortlisted"
   ]
  },
  {
   "cell_type": "code",
   "execution_count": 69,
   "id": "fancy-patient",
   "metadata": {},
   "outputs": [],
   "source": [
    "df1 = pd.DataFrame(list(set(shortlisted)), columns=['keyword'])\n",
    "df1.to_csv('fibromatosis_pubmed_keywords.csv', index=False)"
   ]
  }
 ],
 "metadata": {
  "kernelspec": {
   "display_name": "Python 3",
   "language": "python",
   "name": "python3"
  },
  "language_info": {
   "codemirror_mode": {
    "name": "ipython",
    "version": 3
   },
   "file_extension": ".py",
   "mimetype": "text/x-python",
   "name": "python",
   "nbconvert_exporter": "python",
   "pygments_lexer": "ipython3",
   "version": "3.7.9"
  }
 },
 "nbformat": 4,
 "nbformat_minor": 5
}
